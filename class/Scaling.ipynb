{
  "cells": [
    {
      "cell_type": "code",
      "execution_count": 7,
      "metadata": {
        "colab": {
          "base_uri": "https://localhost:8080/",
          "height": 128
        },
        "id": "bqfPo4g4pfsf",
        "outputId": "526d5245-d9cd-44ab-dbad-ee23bc30ef9f"
      },
      "outputs": [],
      "source": [
        "import numpy as np\n",
        "import pandas as pd\n",
        "import matplotlib.pyplot as plt\n",
        "import seaborn as sns"
      ]
    },
    {
      "cell_type": "code",
      "execution_count": 8,
      "metadata": {
        "id": "jdu3uT1YwD3q"
      },
      "outputs": [],
      "source": [
        "df = pd.read_csv('../assets/diabetes.csv')"
      ]
    },
    {
      "cell_type": "code",
      "execution_count": 9,
      "metadata": {
        "id": "Z8TPtStkwQS4"
      },
      "outputs": [],
      "source": [
        "df=df.iloc[:,2:]"
      ]
    },
    {
      "cell_type": "code",
      "execution_count": 10,
      "metadata": {
        "colab": {
          "base_uri": "https://localhost:8080/",
          "height": 206
        },
        "id": "iGcU1Sd_wXxA",
        "outputId": "1aaa3cb5-ed91-4388-8fff-bde83ad10091"
      },
      "outputs": [
        {
          "data": {
            "text/html": [
              "<div>\n",
              "<style scoped>\n",
              "    .dataframe tbody tr th:only-of-type {\n",
              "        vertical-align: middle;\n",
              "    }\n",
              "\n",
              "    .dataframe tbody tr th {\n",
              "        vertical-align: top;\n",
              "    }\n",
              "\n",
              "    .dataframe thead th {\n",
              "        text-align: right;\n",
              "    }\n",
              "</style>\n",
              "<table border=\"1\" class=\"dataframe\">\n",
              "  <thead>\n",
              "    <tr style=\"text-align: right;\">\n",
              "      <th></th>\n",
              "      <th>BloodPressure</th>\n",
              "      <th>SkinThickness</th>\n",
              "      <th>Insulin</th>\n",
              "      <th>BMI</th>\n",
              "      <th>DiabetesPedigreeFunction</th>\n",
              "      <th>Age</th>\n",
              "      <th>Outcome</th>\n",
              "    </tr>\n",
              "  </thead>\n",
              "  <tbody>\n",
              "    <tr>\n",
              "      <th>580</th>\n",
              "      <td>90</td>\n",
              "      <td>46</td>\n",
              "      <td>0</td>\n",
              "      <td>42.1</td>\n",
              "      <td>0.371</td>\n",
              "      <td>21</td>\n",
              "      <td>1</td>\n",
              "    </tr>\n",
              "    <tr>\n",
              "      <th>547</th>\n",
              "      <td>68</td>\n",
              "      <td>21</td>\n",
              "      <td>166</td>\n",
              "      <td>33.1</td>\n",
              "      <td>0.160</td>\n",
              "      <td>28</td>\n",
              "      <td>0</td>\n",
              "    </tr>\n",
              "    <tr>\n",
              "      <th>753</th>\n",
              "      <td>88</td>\n",
              "      <td>44</td>\n",
              "      <td>510</td>\n",
              "      <td>43.3</td>\n",
              "      <td>0.222</td>\n",
              "      <td>26</td>\n",
              "      <td>1</td>\n",
              "    </tr>\n",
              "    <tr>\n",
              "      <th>586</th>\n",
              "      <td>66</td>\n",
              "      <td>0</td>\n",
              "      <td>0</td>\n",
              "      <td>34.9</td>\n",
              "      <td>0.129</td>\n",
              "      <td>41</td>\n",
              "      <td>1</td>\n",
              "    </tr>\n",
              "    <tr>\n",
              "      <th>376</th>\n",
              "      <td>82</td>\n",
              "      <td>15</td>\n",
              "      <td>84</td>\n",
              "      <td>25.2</td>\n",
              "      <td>0.299</td>\n",
              "      <td>22</td>\n",
              "      <td>0</td>\n",
              "    </tr>\n",
              "  </tbody>\n",
              "</table>\n",
              "</div>"
            ],
            "text/plain": [
              "     BloodPressure  SkinThickness  Insulin   BMI  DiabetesPedigreeFunction  \\\n",
              "580             90             46        0  42.1                     0.371   \n",
              "547             68             21      166  33.1                     0.160   \n",
              "753             88             44      510  43.3                     0.222   \n",
              "586             66              0        0  34.9                     0.129   \n",
              "376             82             15       84  25.2                     0.299   \n",
              "\n",
              "     Age  Outcome  \n",
              "580   21        1  \n",
              "547   28        0  \n",
              "753   26        1  \n",
              "586   41        1  \n",
              "376   22        0  "
            ]
          },
          "execution_count": 10,
          "metadata": {},
          "output_type": "execute_result"
        }
      ],
      "source": [
        "df.sample(5)"
      ]
    },
    {
      "cell_type": "code",
      "execution_count": 11,
      "metadata": {
        "colab": {
          "base_uri": "https://localhost:8080/"
        },
        "id": "49sE9dIXwh2D",
        "outputId": "87e47c59-b093-4646-a8d5-8365ac149985"
      },
      "outputs": [
        {
          "data": {
            "text/plain": [
              "((537, 6), (231, 6))"
            ]
          },
          "execution_count": 11,
          "metadata": {},
          "output_type": "execute_result"
        }
      ],
      "source": [
        "from pandas.core.common import random_state\n",
        "from sklearn.model_selection import train_test_split\n",
        "X_train, X_test, y_train, y_test = train_test_split(df.drop('Outcome', axis=1),\n",
        "                                                    df['Outcome'],\n",
        "                                                    test_size=0.3,\n",
        "                                                    random_state=0)\n",
        "X_train.shape, X_test.shape"
      ]
    },
    {
      "cell_type": "code",
      "execution_count": 12,
      "metadata": {
        "id": "e_G2X7iEyHH2"
      },
      "outputs": [],
      "source": [
        "from sklearn.preprocessing import StandardScaler\n",
        "scaler = StandardScaler()\n",
        "\n",
        "scaler.fit(X_train)\n",
        "\n",
        "X_train_scaled = scaler.transform(X_train)\n",
        "X_test_scaled = scaler.transform(X_test)"
      ]
    },
    {
      "cell_type": "code",
      "execution_count": 13,
      "metadata": {
        "colab": {
          "base_uri": "https://localhost:8080/"
        },
        "id": "Z5qjXSHNysob",
        "outputId": "718cc8da-30a2-40e9-cbab-3d8d76b8ac14"
      },
      "outputs": [
        {
          "data": {
            "text/plain": [
              "array([69.66666667, 21.03165736, 84.90130354, 32.25512104,  0.4713203 ,\n",
              "       33.67039106])"
            ]
          },
          "execution_count": 13,
          "metadata": {},
          "output_type": "execute_result"
        }
      ],
      "source": [
        "scaler.mean_"
      ]
    },
    {
      "cell_type": "code",
      "execution_count": 14,
      "metadata": {
        "colab": {
          "base_uri": "https://localhost:8080/",
          "height": 423
        },
        "id": "tQaB_yMwy5t5",
        "outputId": "407db501-0250-4535-9628-16bb8eb38ecb"
      },
      "outputs": [
        {
          "data": {
            "text/html": [
              "<div>\n",
              "<style scoped>\n",
              "    .dataframe tbody tr th:only-of-type {\n",
              "        vertical-align: middle;\n",
              "    }\n",
              "\n",
              "    .dataframe tbody tr th {\n",
              "        vertical-align: top;\n",
              "    }\n",
              "\n",
              "    .dataframe thead th {\n",
              "        text-align: right;\n",
              "    }\n",
              "</style>\n",
              "<table border=\"1\" class=\"dataframe\">\n",
              "  <thead>\n",
              "    <tr style=\"text-align: right;\">\n",
              "      <th></th>\n",
              "      <th>BloodPressure</th>\n",
              "      <th>SkinThickness</th>\n",
              "      <th>Insulin</th>\n",
              "      <th>BMI</th>\n",
              "      <th>DiabetesPedigreeFunction</th>\n",
              "      <th>Age</th>\n",
              "    </tr>\n",
              "  </thead>\n",
              "  <tbody>\n",
              "    <tr>\n",
              "      <th>580</th>\n",
              "      <td>90</td>\n",
              "      <td>46</td>\n",
              "      <td>0</td>\n",
              "      <td>42.1</td>\n",
              "      <td>0.371</td>\n",
              "      <td>21</td>\n",
              "    </tr>\n",
              "    <tr>\n",
              "      <th>418</th>\n",
              "      <td>68</td>\n",
              "      <td>0</td>\n",
              "      <td>0</td>\n",
              "      <td>18.2</td>\n",
              "      <td>0.624</td>\n",
              "      <td>27</td>\n",
              "    </tr>\n",
              "    <tr>\n",
              "      <th>764</th>\n",
              "      <td>70</td>\n",
              "      <td>27</td>\n",
              "      <td>0</td>\n",
              "      <td>36.8</td>\n",
              "      <td>0.340</td>\n",
              "      <td>27</td>\n",
              "    </tr>\n",
              "    <tr>\n",
              "      <th>363</th>\n",
              "      <td>78</td>\n",
              "      <td>0</td>\n",
              "      <td>0</td>\n",
              "      <td>38.5</td>\n",
              "      <td>0.520</td>\n",
              "      <td>67</td>\n",
              "    </tr>\n",
              "    <tr>\n",
              "      <th>757</th>\n",
              "      <td>72</td>\n",
              "      <td>0</td>\n",
              "      <td>0</td>\n",
              "      <td>36.3</td>\n",
              "      <td>0.258</td>\n",
              "      <td>52</td>\n",
              "    </tr>\n",
              "    <tr>\n",
              "      <th>...</th>\n",
              "      <td>...</td>\n",
              "      <td>...</td>\n",
              "      <td>...</td>\n",
              "      <td>...</td>\n",
              "      <td>...</td>\n",
              "      <td>...</td>\n",
              "    </tr>\n",
              "    <tr>\n",
              "      <th>763</th>\n",
              "      <td>76</td>\n",
              "      <td>48</td>\n",
              "      <td>180</td>\n",
              "      <td>32.9</td>\n",
              "      <td>0.171</td>\n",
              "      <td>63</td>\n",
              "    </tr>\n",
              "    <tr>\n",
              "      <th>192</th>\n",
              "      <td>66</td>\n",
              "      <td>0</td>\n",
              "      <td>0</td>\n",
              "      <td>30.4</td>\n",
              "      <td>0.383</td>\n",
              "      <td>36</td>\n",
              "    </tr>\n",
              "    <tr>\n",
              "      <th>629</th>\n",
              "      <td>65</td>\n",
              "      <td>22</td>\n",
              "      <td>0</td>\n",
              "      <td>24.7</td>\n",
              "      <td>0.148</td>\n",
              "      <td>21</td>\n",
              "    </tr>\n",
              "    <tr>\n",
              "      <th>559</th>\n",
              "      <td>74</td>\n",
              "      <td>0</td>\n",
              "      <td>0</td>\n",
              "      <td>30.1</td>\n",
              "      <td>0.300</td>\n",
              "      <td>35</td>\n",
              "    </tr>\n",
              "    <tr>\n",
              "      <th>684</th>\n",
              "      <td>82</td>\n",
              "      <td>0</td>\n",
              "      <td>0</td>\n",
              "      <td>0.0</td>\n",
              "      <td>0.640</td>\n",
              "      <td>69</td>\n",
              "    </tr>\n",
              "  </tbody>\n",
              "</table>\n",
              "<p>537 rows × 6 columns</p>\n",
              "</div>"
            ],
            "text/plain": [
              "     BloodPressure  SkinThickness  Insulin   BMI  DiabetesPedigreeFunction  \\\n",
              "580             90             46        0  42.1                     0.371   \n",
              "418             68              0        0  18.2                     0.624   \n",
              "764             70             27        0  36.8                     0.340   \n",
              "363             78              0        0  38.5                     0.520   \n",
              "757             72              0        0  36.3                     0.258   \n",
              "..             ...            ...      ...   ...                       ...   \n",
              "763             76             48      180  32.9                     0.171   \n",
              "192             66              0        0  30.4                     0.383   \n",
              "629             65             22        0  24.7                     0.148   \n",
              "559             74              0        0  30.1                     0.300   \n",
              "684             82              0        0   0.0                     0.640   \n",
              "\n",
              "     Age  \n",
              "580   21  \n",
              "418   27  \n",
              "764   27  \n",
              "363   67  \n",
              "757   52  \n",
              "..   ...  \n",
              "763   63  \n",
              "192   36  \n",
              "629   21  \n",
              "559   35  \n",
              "684   69  \n",
              "\n",
              "[537 rows x 6 columns]"
            ]
          },
          "execution_count": 14,
          "metadata": {},
          "output_type": "execute_result"
        }
      ],
      "source": [
        "X_train"
      ]
    },
    {
      "cell_type": "code",
      "execution_count": 15,
      "metadata": {
        "colab": {
          "base_uri": "https://localhost:8080/"
        },
        "id": "t4oTGZvWzAAG",
        "outputId": "d2e79f5d-1f30-4ab8-8af7-5214280ab15a"
      },
      "outputs": [
        {
          "data": {
            "text/plain": [
              "array([[ 1.04559346,  1.55899991, -0.71652335,  1.22646853, -0.3002719 ,\n",
              "        -1.05654479],\n",
              "       [-0.08570438, -1.31319697, -0.71652335, -1.75097771,  0.45699051,\n",
              "        -0.55622332],\n",
              "       [ 0.01714088,  0.37265772, -0.71652335,  0.56619802, -0.39305899,\n",
              "        -0.55622332],\n",
              "       ...,\n",
              "       [-0.23997227,  0.06046241, -0.71652335, -0.941212  , -0.96774035,\n",
              "        -1.05654479],\n",
              "       [ 0.22283139, -1.31319697, -0.71652335, -0.26848356, -0.51278428,\n",
              "         0.11087198],\n",
              "       [ 0.63421243, -1.31319697, -0.71652335, -4.01832171,  0.50488062,\n",
              "         2.94602702]])"
            ]
          },
          "execution_count": 15,
          "metadata": {},
          "output_type": "execute_result"
        }
      ],
      "source": [
        "X_train_scaled"
      ]
    },
    {
      "cell_type": "code",
      "execution_count": 16,
      "metadata": {
        "id": "ml-ikld4zMzd"
      },
      "outputs": [],
      "source": [
        "X_train_scaled = pd.DataFrame(X_train_scaled, columns=X_train.columns)\n",
        "X_test_scaled = pd.DataFrame(X_test_scaled, columns=X_test.columns)"
      ]
    },
    {
      "cell_type": "code",
      "execution_count": 17,
      "metadata": {
        "colab": {
          "base_uri": "https://localhost:8080/",
          "height": 423
        },
        "id": "n3XKkMkKz7av",
        "outputId": "9b1b5609-db49-4bb3-bc70-49a386ced630"
      },
      "outputs": [
        {
          "data": {
            "text/html": [
              "<div>\n",
              "<style scoped>\n",
              "    .dataframe tbody tr th:only-of-type {\n",
              "        vertical-align: middle;\n",
              "    }\n",
              "\n",
              "    .dataframe tbody tr th {\n",
              "        vertical-align: top;\n",
              "    }\n",
              "\n",
              "    .dataframe thead th {\n",
              "        text-align: right;\n",
              "    }\n",
              "</style>\n",
              "<table border=\"1\" class=\"dataframe\">\n",
              "  <thead>\n",
              "    <tr style=\"text-align: right;\">\n",
              "      <th></th>\n",
              "      <th>BloodPressure</th>\n",
              "      <th>SkinThickness</th>\n",
              "      <th>Insulin</th>\n",
              "      <th>BMI</th>\n",
              "      <th>DiabetesPedigreeFunction</th>\n",
              "      <th>Age</th>\n",
              "    </tr>\n",
              "  </thead>\n",
              "  <tbody>\n",
              "    <tr>\n",
              "      <th>0</th>\n",
              "      <td>1.045593</td>\n",
              "      <td>1.559000</td>\n",
              "      <td>-0.716523</td>\n",
              "      <td>1.226469</td>\n",
              "      <td>-0.300272</td>\n",
              "      <td>-1.056545</td>\n",
              "    </tr>\n",
              "    <tr>\n",
              "      <th>1</th>\n",
              "      <td>-0.085704</td>\n",
              "      <td>-1.313197</td>\n",
              "      <td>-0.716523</td>\n",
              "      <td>-1.750978</td>\n",
              "      <td>0.456991</td>\n",
              "      <td>-0.556223</td>\n",
              "    </tr>\n",
              "    <tr>\n",
              "      <th>2</th>\n",
              "      <td>0.017141</td>\n",
              "      <td>0.372658</td>\n",
              "      <td>-0.716523</td>\n",
              "      <td>0.566198</td>\n",
              "      <td>-0.393059</td>\n",
              "      <td>-0.556223</td>\n",
              "    </tr>\n",
              "    <tr>\n",
              "      <th>3</th>\n",
              "      <td>0.428522</td>\n",
              "      <td>-1.313197</td>\n",
              "      <td>-0.716523</td>\n",
              "      <td>0.777983</td>\n",
              "      <td>0.145705</td>\n",
              "      <td>2.779253</td>\n",
              "    </tr>\n",
              "    <tr>\n",
              "      <th>4</th>\n",
              "      <td>0.119986</td>\n",
              "      <td>-1.313197</td>\n",
              "      <td>-0.716523</td>\n",
              "      <td>0.503908</td>\n",
              "      <td>-0.638496</td>\n",
              "      <td>1.528450</td>\n",
              "    </tr>\n",
              "    <tr>\n",
              "      <th>...</th>\n",
              "      <td>...</td>\n",
              "      <td>...</td>\n",
              "      <td>...</td>\n",
              "      <td>...</td>\n",
              "      <td>...</td>\n",
              "      <td>...</td>\n",
              "    </tr>\n",
              "    <tr>\n",
              "      <th>532</th>\n",
              "      <td>0.325677</td>\n",
              "      <td>1.683878</td>\n",
              "      <td>0.802584</td>\n",
              "      <td>0.080339</td>\n",
              "      <td>-0.898898</td>\n",
              "      <td>2.445706</td>\n",
              "    </tr>\n",
              "    <tr>\n",
              "      <th>533</th>\n",
              "      <td>-0.188550</td>\n",
              "      <td>-1.313197</td>\n",
              "      <td>-0.716523</td>\n",
              "      <td>-0.231110</td>\n",
              "      <td>-0.264354</td>\n",
              "      <td>0.194259</td>\n",
              "    </tr>\n",
              "    <tr>\n",
              "      <th>534</th>\n",
              "      <td>-0.239972</td>\n",
              "      <td>0.060462</td>\n",
              "      <td>-0.716523</td>\n",
              "      <td>-0.941212</td>\n",
              "      <td>-0.967740</td>\n",
              "      <td>-1.056545</td>\n",
              "    </tr>\n",
              "    <tr>\n",
              "      <th>535</th>\n",
              "      <td>0.222831</td>\n",
              "      <td>-1.313197</td>\n",
              "      <td>-0.716523</td>\n",
              "      <td>-0.268484</td>\n",
              "      <td>-0.512784</td>\n",
              "      <td>0.110872</td>\n",
              "    </tr>\n",
              "    <tr>\n",
              "      <th>536</th>\n",
              "      <td>0.634212</td>\n",
              "      <td>-1.313197</td>\n",
              "      <td>-0.716523</td>\n",
              "      <td>-4.018322</td>\n",
              "      <td>0.504881</td>\n",
              "      <td>2.946027</td>\n",
              "    </tr>\n",
              "  </tbody>\n",
              "</table>\n",
              "<p>537 rows × 6 columns</p>\n",
              "</div>"
            ],
            "text/plain": [
              "     BloodPressure  SkinThickness   Insulin       BMI  \\\n",
              "0         1.045593       1.559000 -0.716523  1.226469   \n",
              "1        -0.085704      -1.313197 -0.716523 -1.750978   \n",
              "2         0.017141       0.372658 -0.716523  0.566198   \n",
              "3         0.428522      -1.313197 -0.716523  0.777983   \n",
              "4         0.119986      -1.313197 -0.716523  0.503908   \n",
              "..             ...            ...       ...       ...   \n",
              "532       0.325677       1.683878  0.802584  0.080339   \n",
              "533      -0.188550      -1.313197 -0.716523 -0.231110   \n",
              "534      -0.239972       0.060462 -0.716523 -0.941212   \n",
              "535       0.222831      -1.313197 -0.716523 -0.268484   \n",
              "536       0.634212      -1.313197 -0.716523 -4.018322   \n",
              "\n",
              "     DiabetesPedigreeFunction       Age  \n",
              "0                   -0.300272 -1.056545  \n",
              "1                    0.456991 -0.556223  \n",
              "2                   -0.393059 -0.556223  \n",
              "3                    0.145705  2.779253  \n",
              "4                   -0.638496  1.528450  \n",
              "..                        ...       ...  \n",
              "532                 -0.898898  2.445706  \n",
              "533                 -0.264354  0.194259  \n",
              "534                 -0.967740 -1.056545  \n",
              "535                 -0.512784  0.110872  \n",
              "536                  0.504881  2.946027  \n",
              "\n",
              "[537 rows x 6 columns]"
            ]
          },
          "execution_count": 17,
          "metadata": {},
          "output_type": "execute_result"
        }
      ],
      "source": [
        "X_train_scaled"
      ]
    },
    {
      "cell_type": "code",
      "execution_count": 18,
      "metadata": {
        "colab": {
          "base_uri": "https://localhost:8080/",
          "height": 300
        },
        "id": "K6ipeOpR0aqs",
        "outputId": "f44cb1c7-c4fd-4d56-aa0e-882124a41abc"
      },
      "outputs": [
        {
          "data": {
            "text/html": [
              "<div>\n",
              "<style scoped>\n",
              "    .dataframe tbody tr th:only-of-type {\n",
              "        vertical-align: middle;\n",
              "    }\n",
              "\n",
              "    .dataframe tbody tr th {\n",
              "        vertical-align: top;\n",
              "    }\n",
              "\n",
              "    .dataframe thead th {\n",
              "        text-align: right;\n",
              "    }\n",
              "</style>\n",
              "<table border=\"1\" class=\"dataframe\">\n",
              "  <thead>\n",
              "    <tr style=\"text-align: right;\">\n",
              "      <th></th>\n",
              "      <th>BloodPressure</th>\n",
              "      <th>SkinThickness</th>\n",
              "      <th>Insulin</th>\n",
              "      <th>BMI</th>\n",
              "      <th>DiabetesPedigreeFunction</th>\n",
              "      <th>Age</th>\n",
              "    </tr>\n",
              "  </thead>\n",
              "  <tbody>\n",
              "    <tr>\n",
              "      <th>count</th>\n",
              "      <td>537.0</td>\n",
              "      <td>537.0</td>\n",
              "      <td>537.0</td>\n",
              "      <td>537.0</td>\n",
              "      <td>537.0</td>\n",
              "      <td>537.0</td>\n",
              "    </tr>\n",
              "    <tr>\n",
              "      <th>mean</th>\n",
              "      <td>69.7</td>\n",
              "      <td>21.0</td>\n",
              "      <td>84.9</td>\n",
              "      <td>32.3</td>\n",
              "      <td>0.5</td>\n",
              "      <td>33.7</td>\n",
              "    </tr>\n",
              "    <tr>\n",
              "      <th>std</th>\n",
              "      <td>19.5</td>\n",
              "      <td>16.0</td>\n",
              "      <td>118.6</td>\n",
              "      <td>8.0</td>\n",
              "      <td>0.3</td>\n",
              "      <td>12.0</td>\n",
              "    </tr>\n",
              "    <tr>\n",
              "      <th>min</th>\n",
              "      <td>0.0</td>\n",
              "      <td>0.0</td>\n",
              "      <td>0.0</td>\n",
              "      <td>0.0</td>\n",
              "      <td>0.1</td>\n",
              "      <td>21.0</td>\n",
              "    </tr>\n",
              "    <tr>\n",
              "      <th>25%</th>\n",
              "      <td>64.0</td>\n",
              "      <td>0.0</td>\n",
              "      <td>0.0</td>\n",
              "      <td>27.5</td>\n",
              "      <td>0.2</td>\n",
              "      <td>24.0</td>\n",
              "    </tr>\n",
              "    <tr>\n",
              "      <th>50%</th>\n",
              "      <td>72.0</td>\n",
              "      <td>24.0</td>\n",
              "      <td>45.0</td>\n",
              "      <td>32.4</td>\n",
              "      <td>0.4</td>\n",
              "      <td>29.0</td>\n",
              "    </tr>\n",
              "    <tr>\n",
              "      <th>75%</th>\n",
              "      <td>80.0</td>\n",
              "      <td>33.0</td>\n",
              "      <td>135.0</td>\n",
              "      <td>36.8</td>\n",
              "      <td>0.6</td>\n",
              "      <td>41.0</td>\n",
              "    </tr>\n",
              "    <tr>\n",
              "      <th>max</th>\n",
              "      <td>122.0</td>\n",
              "      <td>99.0</td>\n",
              "      <td>846.0</td>\n",
              "      <td>67.1</td>\n",
              "      <td>2.4</td>\n",
              "      <td>81.0</td>\n",
              "    </tr>\n",
              "  </tbody>\n",
              "</table>\n",
              "</div>"
            ],
            "text/plain": [
              "       BloodPressure  SkinThickness  Insulin    BMI  DiabetesPedigreeFunction  \\\n",
              "count          537.0          537.0    537.0  537.0                     537.0   \n",
              "mean            69.7           21.0     84.9   32.3                       0.5   \n",
              "std             19.5           16.0    118.6    8.0                       0.3   \n",
              "min              0.0            0.0      0.0    0.0                       0.1   \n",
              "25%             64.0            0.0      0.0   27.5                       0.2   \n",
              "50%             72.0           24.0     45.0   32.4                       0.4   \n",
              "75%             80.0           33.0    135.0   36.8                       0.6   \n",
              "max            122.0           99.0    846.0   67.1                       2.4   \n",
              "\n",
              "         Age  \n",
              "count  537.0  \n",
              "mean    33.7  \n",
              "std     12.0  \n",
              "min     21.0  \n",
              "25%     24.0  \n",
              "50%     29.0  \n",
              "75%     41.0  \n",
              "max     81.0  "
            ]
          },
          "execution_count": 18,
          "metadata": {},
          "output_type": "execute_result"
        }
      ],
      "source": [
        "np.round(X_train.describe(), 1)"
      ]
    },
    {
      "cell_type": "code",
      "execution_count": 19,
      "metadata": {
        "colab": {
          "base_uri": "https://localhost:8080/",
          "height": 300
        },
        "id": "bbnzeXh41M0j",
        "outputId": "cb74db21-0e95-4ce1-dc0c-bdfe79df9744"
      },
      "outputs": [
        {
          "data": {
            "text/html": [
              "<div>\n",
              "<style scoped>\n",
              "    .dataframe tbody tr th:only-of-type {\n",
              "        vertical-align: middle;\n",
              "    }\n",
              "\n",
              "    .dataframe tbody tr th {\n",
              "        vertical-align: top;\n",
              "    }\n",
              "\n",
              "    .dataframe thead th {\n",
              "        text-align: right;\n",
              "    }\n",
              "</style>\n",
              "<table border=\"1\" class=\"dataframe\">\n",
              "  <thead>\n",
              "    <tr style=\"text-align: right;\">\n",
              "      <th></th>\n",
              "      <th>BloodPressure</th>\n",
              "      <th>SkinThickness</th>\n",
              "      <th>Insulin</th>\n",
              "      <th>BMI</th>\n",
              "      <th>DiabetesPedigreeFunction</th>\n",
              "      <th>Age</th>\n",
              "    </tr>\n",
              "  </thead>\n",
              "  <tbody>\n",
              "    <tr>\n",
              "      <th>count</th>\n",
              "      <td>537.0</td>\n",
              "      <td>537.0</td>\n",
              "      <td>537.0</td>\n",
              "      <td>537.0</td>\n",
              "      <td>537.0</td>\n",
              "      <td>537.0</td>\n",
              "    </tr>\n",
              "    <tr>\n",
              "      <th>mean</th>\n",
              "      <td>-0.0</td>\n",
              "      <td>0.0</td>\n",
              "      <td>0.0</td>\n",
              "      <td>0.0</td>\n",
              "      <td>-0.0</td>\n",
              "      <td>0.0</td>\n",
              "    </tr>\n",
              "    <tr>\n",
              "      <th>std</th>\n",
              "      <td>1.0</td>\n",
              "      <td>1.0</td>\n",
              "      <td>1.0</td>\n",
              "      <td>1.0</td>\n",
              "      <td>1.0</td>\n",
              "      <td>1.0</td>\n",
              "    </tr>\n",
              "    <tr>\n",
              "      <th>min</th>\n",
              "      <td>-3.6</td>\n",
              "      <td>-1.3</td>\n",
              "      <td>-0.7</td>\n",
              "      <td>-4.0</td>\n",
              "      <td>-1.2</td>\n",
              "      <td>-1.1</td>\n",
              "    </tr>\n",
              "    <tr>\n",
              "      <th>25%</th>\n",
              "      <td>-0.3</td>\n",
              "      <td>-1.3</td>\n",
              "      <td>-0.7</td>\n",
              "      <td>-0.6</td>\n",
              "      <td>-0.7</td>\n",
              "      <td>-0.8</td>\n",
              "    </tr>\n",
              "    <tr>\n",
              "      <th>50%</th>\n",
              "      <td>0.1</td>\n",
              "      <td>0.2</td>\n",
              "      <td>-0.3</td>\n",
              "      <td>0.0</td>\n",
              "      <td>-0.3</td>\n",
              "      <td>-0.4</td>\n",
              "    </tr>\n",
              "    <tr>\n",
              "      <th>75%</th>\n",
              "      <td>0.5</td>\n",
              "      <td>0.7</td>\n",
              "      <td>0.4</td>\n",
              "      <td>0.6</td>\n",
              "      <td>0.4</td>\n",
              "      <td>0.6</td>\n",
              "    </tr>\n",
              "    <tr>\n",
              "      <th>max</th>\n",
              "      <td>2.7</td>\n",
              "      <td>4.9</td>\n",
              "      <td>6.4</td>\n",
              "      <td>4.3</td>\n",
              "      <td>5.8</td>\n",
              "      <td>3.9</td>\n",
              "    </tr>\n",
              "  </tbody>\n",
              "</table>\n",
              "</div>"
            ],
            "text/plain": [
              "       BloodPressure  SkinThickness  Insulin    BMI  DiabetesPedigreeFunction  \\\n",
              "count          537.0          537.0    537.0  537.0                     537.0   \n",
              "mean            -0.0            0.0      0.0    0.0                      -0.0   \n",
              "std              1.0            1.0      1.0    1.0                       1.0   \n",
              "min             -3.6           -1.3     -0.7   -4.0                      -1.2   \n",
              "25%             -0.3           -1.3     -0.7   -0.6                      -0.7   \n",
              "50%              0.1            0.2     -0.3    0.0                      -0.3   \n",
              "75%              0.5            0.7      0.4    0.6                       0.4   \n",
              "max              2.7            4.9      6.4    4.3                       5.8   \n",
              "\n",
              "         Age  \n",
              "count  537.0  \n",
              "mean     0.0  \n",
              "std      1.0  \n",
              "min     -1.1  \n",
              "25%     -0.8  \n",
              "50%     -0.4  \n",
              "75%      0.6  \n",
              "max      3.9  "
            ]
          },
          "execution_count": 19,
          "metadata": {},
          "output_type": "execute_result"
        }
      ],
      "source": [
        "np.round(X_train_scaled.describe(), 1)"
      ]
    },
    {
      "cell_type": "code",
      "execution_count": 20,
      "metadata": {
        "colab": {
          "base_uri": "https://localhost:8080/",
          "height": 336
        },
        "id": "LAqzSm3P1msg",
        "outputId": "145846f9-ab9d-4570-b8f7-e2d0d6ff2103"
      },
      "outputs": [
        {
          "data": {
            "image/png": "[encoded data removed]",
            "text/plain": [
              "<Figure size 1200x500 with 2 Axes>"
            ]
          },
          "metadata": {},
          "output_type": "display_data"
        }
      ],
      "source": [
        "fig, (ax1, ax2) = plt.subplots(ncols=2, figsize=(12, 5))\n",
        "\n",
        "ax1.scatter(X_train['BMI'], X_train['Insulin'], color='red')\n",
        "ax1.set_title(\"Before Scaling\")\n",
        "ax2.scatter(X_train_scaled['BMI'], X_train['Insulin'],color='green')\n",
        "ax2.set_title(\"After scaling\")\n",
        "plt.show()"
      ]
    }
  ],
  "metadata": {
    "colab": {
      "provenance": []
    },
    "kernelspec": {
      "display_name": "Python 3",
      "language": "python",
      "name": "python3"
    },
    "language_info": {
      "codemirror_mode": {
        "name": "ipython",
        "version": 3
      },
      "file_extension": ".py",
      "mimetype": "text/x-python",
      "name": "python",
      "nbconvert_exporter": "python",
      "pygments_lexer": "ipython3",
      "version": "3.11.2"
    },
    "vscode": {
      "interpreter": {
        "hash": "8618bb3c061542829e71a11af5eb3aef731445f66e5c70cd89d59e07c6c72a72"
      }
    }
  },
  "nbformat": 4,
  "nbformat_minor": 0
}
